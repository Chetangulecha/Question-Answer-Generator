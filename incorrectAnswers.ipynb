{
 "cells": [
  {
   "cell_type": "code",
   "execution_count": 1,
   "id": "3176ed64",
   "metadata": {},
   "outputs": [],
   "source": [
    "import gensim\n",
    "from gensim.test.utils import datapath, get_tmpfile\n",
    "from gensim.models import KeyedVectors"
   ]
  },
  {
   "cell_type": "code",
   "execution_count": 2,
   "id": "4bca5428",
   "metadata": {},
   "outputs": [],
   "source": [
    "glove_file = './data/embeddings/glove.6B.300d.txt'\n",
    "tmp_file = './data/embeddings/word2vec-glove.6B.300d.txt'"
   ]
  },
  {
   "cell_type": "code",
   "execution_count": 3,
   "id": "310bea0b",
   "metadata": {},
   "outputs": [],
   "source": [
    "import os\n",
    "\n",
    "if not os.path.isfile(glove_file):\n",
    "    print(\"Glove embeddings not found. Please download and place them in the following path: \" + glove_file)"
   ]
  },
  {
   "cell_type": "code",
   "execution_count": 5,
   "id": "328c0fdb",
   "metadata": {},
   "outputs": [],
   "source": [
    "from gensim.scripts.glove2word2vec import glove2word2vec\n",
    "glove2word2vec(glove_file, tmp_file)\n",
    "model = KeyedVectors.load_word2vec_format(tmp_file)"
   ]
  },
  {
   "cell_type": "code",
   "execution_count": 6,
   "id": "0c47fef7",
   "metadata": {},
   "outputs": [
    {
     "data": {
      "text/plain": [
       "[('probo', 0.5426342487335205),\n",
       " ('koalas', 0.4729689359664917),\n",
       " ('orangutan', 0.4557289779186249),\n",
       " ('grizzly', 0.41816502809524536),\n",
       " ('marsupial', 0.39361128211021423),\n",
       " ('wombat', 0.3832378685474396),\n",
       " ('cuddly', 0.3804110288619995),\n",
       " ('kodiak', 0.37843799591064453),\n",
       " ('kade', 0.37742379307746887),\n",
       " ('kangaroo', 0.3612629175186157)]"
      ]
     },
     "execution_count": 6,
     "metadata": {},
     "output_type": "execute_result"
    }
   ],
   "source": [
    "model.most_similar(positive=['koala'], topn=10)"
   ]
  },
  {
   "cell_type": "code",
   "execution_count": 7,
   "id": "06593c2c",
   "metadata": {},
   "outputs": [
    {
     "data": {
      "text/plain": [
       "[('hydrogen', 0.63267982006073),\n",
       " ('nitrogen', 0.6251459717750549),\n",
       " ('helium', 0.5435217022895813),\n",
       " ('nutrients', 0.5369840860366821),\n",
       " ('breathing', 0.5023170709609985),\n",
       " ('chlorine', 0.4946938157081604),\n",
       " ('monoxide', 0.4911428987979889),\n",
       " ('dioxide', 0.4911195933818817),\n",
       " ('ammonia', 0.49079084396362305),\n",
       " ('carbon', 0.4836854636669159)]"
      ]
     },
     "execution_count": 7,
     "metadata": {},
     "output_type": "execute_result"
    }
   ],
   "source": [
    "model.most_similar(positive=['oxygen'], topn=10)"
   ]
  },
  {
   "cell_type": "code",
   "execution_count": 8,
   "id": "b0e92013",
   "metadata": {},
   "outputs": [
    {
     "data": {
      "text/plain": [
       "[('1943', 0.9581360220909119),\n",
       " ('1942', 0.9418259859085083),\n",
       " ('1941', 0.9256348609924316),\n",
       " ('1940', 0.8975383043289185),\n",
       " ('1945', 0.8817087411880493),\n",
       " ('1939', 0.8315708637237549),\n",
       " ('1946', 0.8234671950340271),\n",
       " ('1938', 0.781980574131012),\n",
       " ('1937', 0.7764101028442383),\n",
       " ('1935', 0.7516504526138306)]"
      ]
     },
     "execution_count": 8,
     "metadata": {},
     "output_type": "execute_result"
    }
   ],
   "source": [
    "model.most_similar(positive=['1944'], topn=10)"
   ]
  },
  {
   "cell_type": "code",
   "execution_count": 9,
   "id": "501204f2",
   "metadata": {},
   "outputs": [],
   "source": [
    "def generate_distractors(answer, count):\n",
    "    answer = str.lower(answer)\n",
    "    \n",
    "    ##Extracting closest words for the answer. \n",
    "    try:\n",
    "        closestWords = model.most_similar(positive=[answer], topn=count)\n",
    "    except:\n",
    "        #In case the word is not in the vocabulary, or other problem not loading embeddings\n",
    "        return []\n",
    "\n",
    "    #Return count many distractors\n",
    "    distractors = list(map(lambda x: x[0], closestWords))[0:count]\n",
    "    \n",
    "    return distractors"
   ]
  },
  {
   "cell_type": "code",
   "execution_count": 10,
   "id": "91e282c6",
   "metadata": {},
   "outputs": [
    {
     "data": {
      "text/plain": [
       "['hydrogen', 'nitrogen', 'helium', 'nutrients']"
      ]
     },
     "execution_count": 10,
     "metadata": {},
     "output_type": "execute_result"
    }
   ],
   "source": [
    "generate_distractors('oxygen', 4)"
   ]
  },
  {
   "cell_type": "code",
   "execution_count": 11,
   "id": "84cebc61",
   "metadata": {},
   "outputs": [
    {
     "data": {
      "text/plain": [
       "['indian', 'pakistan', 'delhi', 'bangladesh', 'lanka', 'sri', 'kashmir']"
      ]
     },
     "execution_count": 11,
     "metadata": {},
     "output_type": "execute_result"
    }
   ],
   "source": [
    "generate_distractors('india', 7)"
   ]
  },
  {
   "cell_type": "code",
   "execution_count": null,
   "id": "592ca862",
   "metadata": {},
   "outputs": [],
   "source": []
  }
 ],
 "metadata": {
  "kernelspec": {
   "display_name": "Python 3",
   "language": "python",
   "name": "python3"
  },
  "language_info": {
   "codemirror_mode": {
    "name": "ipython",
    "version": 3
   },
   "file_extension": ".py",
   "mimetype": "text/x-python",
   "name": "python",
   "nbconvert_exporter": "python",
   "pygments_lexer": "ipython3",
   "version": "3.6.13"
  }
 },
 "nbformat": 4,
 "nbformat_minor": 5
}
